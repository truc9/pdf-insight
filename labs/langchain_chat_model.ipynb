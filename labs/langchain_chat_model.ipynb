{
 "cells": [
  {
   "cell_type": "code",
   "execution_count": 8,
   "metadata": {},
   "outputs": [
    {
     "name": "stdout",
     "output_type": "stream",
     "text": [
      "\n",
      "\u001b[1m[\u001b[0m\u001b[34;49mnotice\u001b[0m\u001b[1;39;49m]\u001b[0m\u001b[39;49m A new release of pip is available: \u001b[0m\u001b[31;49m23.2.1\u001b[0m\u001b[39;49m -> \u001b[0m\u001b[32;49m24.0\u001b[0m\n",
      "\u001b[1m[\u001b[0m\u001b[34;49mnotice\u001b[0m\u001b[1;39;49m]\u001b[0m\u001b[39;49m To update, run: \u001b[0m\u001b[32;49mpython3.11 -m pip install --upgrade pip\u001b[0m\n"
     ]
    }
   ],
   "source": [
    "!pip3 install --quiet langchain_community langchain_core langchain"
   ]
  },
  {
   "cell_type": "code",
   "execution_count": 17,
   "metadata": {},
   "outputs": [
    {
     "name": "stdout",
     "output_type": "stream",
     "text": [
      "\n",
      "Tôi yêu bạn? Bạn yêu em?\n",
      "\n",
      "* Tôi (ti) - I\n",
      "* Yêu (love) - love\n",
      "* Bạn (friend, person) - you\n",
      "* Em (me, myself) - me\n",
      "\n",
      "So the sentence \"I love you?\" can be translated to Vietnamese as \"Tôi yêu bạn?\" and \"Do you love me?\" can be translated to Vietnamese as \"Bạn yêu em?\".\n"
     ]
    }
   ],
   "source": [
    "from langchain_community.llms import Ollama\n",
    "from langchain_community.chat_models import ChatOllama\n",
    "from langchain_core.messages import HumanMessage\n",
    "from langchain.prompts.chat import ChatPromptTemplate\n",
    "from langchain_core.output_parsers import StrOutputParser\n",
    "\n",
    "# Using LLM\n",
    "# Take string input and output string\n",
    "llm = Ollama(model=\"llama2\")\n",
    "\n",
    "# Using ChatModel\n",
    "# Take list of messages as input and output a message\n",
    "chat_model = ChatOllama()\n",
    "\n",
    "text = \"How to do left join in .NET Core using EF Core ?\"\n",
    "messages = [HumanMessage(content=text)]\n",
    "\n",
    "# output1 = llm.invoke(text)\n",
    "# print(\"output 1\")\n",
    "# print(output1)\n",
    "\n",
    "# print(\"output 2\")\n",
    "# output2 = chat_model.invoke(text)\n",
    "# print(output2)\n",
    "\n",
    "template = \"You are a helpful assistant that translates {input_language} to {output_language}. Translate the full sentence to {output_language}\"\n",
    "human_template = \"{text}\"\n",
    "\n",
    "chat_prompt = ChatPromptTemplate.from_messages([\n",
    "    (\"system\", template),\n",
    "    (\"human\", human_template),\n",
    "])\n",
    "\n",
    "chat_output_parser = StrOutputParser()\n",
    "\n",
    "# Important bit\n",
    "chain = chat_prompt | chat_model | chat_output_parser\n",
    "output = chain.invoke({\"input_language\":\"English\", \"output_language\":\"Vietnamese\", \"text\":\"I love you? do you love me ?\"})\n",
    "print(output)\n"
   ]
  }
 ],
 "metadata": {
  "kernelspec": {
   "display_name": "Python 3",
   "language": "python",
   "name": "python3"
  },
  "language_info": {
   "codemirror_mode": {
    "name": "ipython",
    "version": 3
   },
   "file_extension": ".py",
   "mimetype": "text/x-python",
   "name": "python",
   "nbconvert_exporter": "python",
   "pygments_lexer": "ipython3",
   "version": "3.11.6"
  }
 },
 "nbformat": 4,
 "nbformat_minor": 2
}
