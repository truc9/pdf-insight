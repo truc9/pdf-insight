{
 "cells": [
  {
   "cell_type": "code",
   "execution_count": 1,
   "metadata": {},
   "outputs": [
    {
     "name": "stdout",
     "output_type": "stream",
     "text": [
      "Note: you may need to restart the kernel to use updated packages.\n"
     ]
    }
   ],
   "source": [
    "%reset -f\n",
    "%pip install -qU chromadb llama-index-core llama-index-readers-file llama-index-llms-ollama llama-index-embeddings-huggingface llama-index-graph-stores-neo4j graspologic numpy==1.24.4 scipy==1.12.0"
   ]
  },
  {
   "cell_type": "code",
   "execution_count": 2,
   "metadata": {},
   "outputs": [
    {
     "name": "stderr",
     "output_type": "stream",
     "text": [
      "/Users/trucnguyen/code/pdf-insight/labs/.venv/lib/python3.11/site-packages/tqdm/auto.py:21: TqdmWarning: IProgress not found. Please update jupyter and ipywidgets. See https://ipywidgets.readthedocs.io/en/stable/user_install.html\n",
      "  from .autonotebook import tqdm as notebook_tqdm\n"
     ]
    }
   ],
   "source": [
    "import chromadb\n",
    "\n",
    "from llama_index.embeddings.huggingface import HuggingFaceEmbedding\n",
    "from llama_index.llms.ollama import Ollama\n",
    "from llama_index.core import Settings, PromptTemplate, VectorStoreIndex, StorageContext, SimpleDirectoryReader, VectorStoreIndex, get_response_synthesizer\n",
    "from llama_index.core.llms import MessageRole\n",
    "from llama_index.core.node_parser import SentenceSplitter\n",
    "from llama_index.core.retrievers import VectorIndexRetriever\n",
    "from llama_index.core.query_engine import RetrieverQueryEngine\n",
    "from llama_index.core.chat_engine import ContextChatEngine\n",
    "from llama_index.core.postprocessor import SimilarityPostprocessor\n",
    "from llama_index.core.memory import ChatMemoryBuffer\n",
    "from llama_index.core.storage.chat_store import SimpleChatStore\n",
    "from llama_index.vector_stores.chroma import ChromaVectorStore"
   ]
  },
  {
   "cell_type": "code",
   "execution_count": 3,
   "metadata": {},
   "outputs": [],
   "source": [
    "COLLECTION = \"chatbot\"\n",
    "DOCS_PATH = \"./data/docs\"\n",
    "PERSISTENT_PATH = \"./data/vector_store\"\n",
    "\n",
    "# Control sentence splitting when transform\n",
    "sentence_splitter = SentenceSplitter(chunk_size=1024, chunk_overlap=10)\n",
    "\n",
    "# Local LLM\n",
    "llm = Ollama(model=\"llama3.2\", request_timeout=60.0)\n",
    "\n",
    "# Embed model\n",
    "embed_model = HuggingFaceEmbedding(model_name=\"BAAI/bge-base-en-v1.5\", device=\"mps\")\n",
    "\n",
    "# Global settings\n",
    "Settings.llm = llm\n",
    "Settings.embed_model = embed_model\n",
    "\n",
    "db = chromadb.PersistentClient(path=PERSISTENT_PATH)\n",
    "collection = db.get_or_create_collection(COLLECTION)\n",
    "vector_store = ChromaVectorStore(chroma_collection=collection)\n",
    "storage_context = StorageContext.from_defaults(vector_store=vector_store)\n",
    "\n",
    "index = VectorStoreIndex.from_vector_store(\n",
    "    vector_store=vector_store,\n",
    "    storage_context=storage_context\n",
    ")\n",
    "\n",
    "retriever = VectorIndexRetriever(\n",
    "    index=index,\n",
    "    similarity_top_k=10,\n",
    ")\n",
    "\n",
    "query_engine = RetrieverQueryEngine(\n",
    "    retriever=retriever\n",
    ")\n",
    "\n",
    "'''\n",
    "Data Loading (Data Ingestion)\n",
    "Three stages of data ingestion\n",
    "- load\n",
    "- transform & indexing\n",
    "- store\n",
    "'''\n",
    "def ingest():\n",
    "    # Load\n",
    "    # Create documents out of every single files from ./data directory\n",
    "    # Support Markdown, PDFs, Word, Powerpoint, Images, Audio, Video\n",
    "    documents = SimpleDirectoryReader(DOCS_PATH).load_data()\n",
    "    # [print(f'Data ingestion {doc}\\n') for doc in documents]\n",
    "\n",
    "    # Index & Store\n",
    "    # Indexing is expensive operation, to avoid re-indexing documents, persist indexed documents into Vector Store\n",
    "    # Build index over these objects for later query to feed into LLM\n",
    "    db = chromadb.PersistentClient(path=PERSISTENT_PATH)\n",
    "    collection = db.get_or_create_collection(COLLECTION)\n",
    "    vector_store = ChromaVectorStore(chroma_collection=collection)\n",
    "    storage_context = StorageContext.from_defaults(vector_store=vector_store)\n",
    "\n",
    "    # Transform & Index\n",
    "    # Process & transform data before saving into storage system\n",
    "    # from_documents method receives an array of Document, parse & chunk them up\n",
    "    VectorStoreIndex.from_documents(\n",
    "        documents, \n",
    "        transformations=[sentence_splitter],\n",
    "        storage_context=storage_context,\n",
    "    )\n",
    "\n",
    "'''\n",
    "Retrieve relevant document from vector store\n",
    "'''\n",
    "def retrieve(question):\n",
    "    resp = query_engine.query(question)\n",
    "    return resp"
   ]
  },
  {
   "cell_type": "code",
   "execution_count": 4,
   "metadata": {},
   "outputs": [],
   "source": [
    "# ingest()"
   ]
  },
  {
   "cell_type": "code",
   "execution_count": 5,
   "metadata": {},
   "outputs": [],
   "source": [
    "question = \"Tell me about Truc Nguyen ?\"\n",
    "\n",
    "# template = (\n",
    "#     \"We have provided context information below. \\n\"\n",
    "#     \"--------------------------------------------\\n\"\n",
    "#     \"{context_str}\"\n",
    "#     \"\\n-------------------------------------------\\n\"\n",
    "#     \"Given this information, please answer the question {query_str}\\n\"\n",
    "#     \"Make the answer short and concise, say dont know if you dont know, do not make up the answer\\n\"\n",
    "# )\n",
    "\n",
    "# qa_template = PromptTemplate(template)\n",
    "\n",
    "# context_str = retrieve(question)\n",
    "# question_str = question\n",
    "# prompt = qa_template.format(context_str=context_str, query_str=question_str)"
   ]
  },
  {
   "cell_type": "code",
   "execution_count": 12,
   "metadata": {},
   "outputs": [
    {
     "name": "stdout",
     "output_type": "stream",
     "text": [
      "# Programming Languages Known by Truc\n",
      "\n",
      "Truc is proficient in the following programming languages:\n",
      "\n",
      "*   C#\n",
      "*   JavaScript (ES)/Typescript\n",
      "*   Dart\n",
      "*   SQL\n",
      "\n",
      "These languages are used for both backend and frontend development, as well as other applications."
     ]
    }
   ],
   "source": [
    "question = \"What programming languages Truc knows ?\"\n",
    "\n",
    "memory = ChatMemoryBuffer.from_defaults(\n",
    "    token_limit=3900,\n",
    ")\n",
    "\n",
    "chat_engine = index.as_chat_engine(\n",
    "    chat_mode=\"context\",\n",
    "    memory=memory,\n",
    "    llm=llm,\n",
    "    verbose=False,\n",
    "    system_prompt=(\n",
    "        \"You are a chatbot, able to have normal interactions, as well as talk\\n\"\n",
    "        \"Make the response in Markdown format\\n\"\n",
    "    )\n",
    ")\n",
    "resp = chat_engine.stream_chat(question)\n",
    "\n",
    "for chunk in resp.response_gen:\n",
    "    print(chunk, end=\"\")"
   ]
  },
  {
   "cell_type": "code",
   "execution_count": null,
   "metadata": {},
   "outputs": [],
   "source": []
  }
 ],
 "metadata": {
  "kernelspec": {
   "display_name": ".venv",
   "language": "python",
   "name": "python3"
  },
  "language_info": {
   "codemirror_mode": {
    "name": "ipython",
    "version": 3
   },
   "file_extension": ".py",
   "mimetype": "text/x-python",
   "name": "python",
   "nbconvert_exporter": "python",
   "pygments_lexer": "ipython3",
   "version": "3.11.9"
  }
 },
 "nbformat": 4,
 "nbformat_minor": 2
}
