{
 "cells": [
  {
   "cell_type": "code",
   "execution_count": 1,
   "metadata": {},
   "outputs": [
    {
     "name": "stdout",
     "output_type": "stream",
     "text": [
      "\n",
      "\u001b[1m[\u001b[0m\u001b[34;49mnotice\u001b[0m\u001b[1;39;49m]\u001b[0m\u001b[39;49m A new release of pip is available: \u001b[0m\u001b[31;49m23.2.1\u001b[0m\u001b[39;49m -> \u001b[0m\u001b[32;49m24.0\u001b[0m\n",
      "\u001b[1m[\u001b[0m\u001b[34;49mnotice\u001b[0m\u001b[1;39;49m]\u001b[0m\u001b[39;49m To update, run: \u001b[0m\u001b[32;49mpython3.11 -m pip install --upgrade pip\u001b[0m\n"
     ]
    }
   ],
   "source": [
    "!pip3 install --quiet langchain_community"
   ]
  },
  {
   "cell_type": "code",
   "execution_count": 8,
   "metadata": {},
   "outputs": [
    {
     "data": {
      "text/plain": [
       "'\\nAs a world-class technical documentation writer, I\\'m glad you asked! Writing an Object-Oriented Programming (OOP) class in Python is a straightforward process that involves defining the attributes and methods of an object. Here\\'s a step-by-step guide to help you get started:\\n\\n1. Define the Class:\\n\\t* Start by defining the name of your class, followed by the `class` keyword. For example, `class Dog`.\\n\\t* Define the attributes of your class using the `=` operator. For example, `name = \"Fido\"` and `age = 3`.\\n2. Define the Methods:\\n\\t* Next, define the methods (functions) that your class will have. Methods are defined using the `def` keyword followed by the name of the method and a colon. For example, `bark()` and `shake_paw()`.\\n\\t* You can also use self as an argument in the definition of a method to refer to the instance of the class. For example, `def bark(self): print(\"Woof!\")`\\n3. Inheritance:\\n\\t* If you want to create a hierarchical relationship between classes, you can use inheritance. The child class inherits the attributes and methods of the parent class. For example, `class Puppy(Dog): pass`\\n4. Instantiation:\\n\\t* Once you\\'ve defined your class, you can create an instance of it using the `()` operator. For example, `my_dog = Dog(\"Fido\", 3)`\\n5. Accessing Class Attributes and Methods:\\n\\t* To access the attributes and methods of a class, you can use the dot notation or the arrow notation. For example, `my_dog.name` or `my_dog -> name`.\\n6. Encapsulation:\\n\\t* Encapsulation is the practice of hiding the implementation details of an object from the outside world. You can achieve encapsulation by using the `private` keyword to define attributes that are only accessible within the class. For example, `private int _age;`\\n7. Abstraction:\\n\\t* Abstraction is the practice of hiding unnecessary details and showing only what\\'s necessary for the user to know. You can achieve abstraction by using abstract classes or interfaces. For example, `class Animal(object): pass`\\n8. Polymorphism:\\n\\t* Polymorphism is the ability of an object to take on many forms. You can achieve polymorphism by defining a method that takes a different number of arguments in each call. For example, `def bark(self, volume = 5): print(\"Woof!\")`\\n9. Composition:\\n\\t* Composition is the practice of combining objects to create a new object. You can achieve composition by using the `+=` operator to add attributes to an existing object. For example, `my_dog += Animal(\"Kitty\")`\\n10. Inheritance with Multiple Inheritance:\\n\\t* Multiple inheritance is the practice of inheriting from multiple classes. You can achieve this by defining a class that inherits from multiple parent classes using the `class` keyword followed by the names of the parent classes separated by a comma. For example, `class Puppy(Dog, Cat): pass`\\n\\nBy following these steps, you can create complex objects and classes in Python, and use them to build robust and scalable applications. Happy coding!'"
      ]
     },
     "execution_count": 8,
     "metadata": {},
     "output_type": "execute_result"
    }
   ],
   "source": [
    "from langchain_community.llms import Ollama\n",
    "from langchain_core.prompts import ChatPromptTemplate\n",
    "from langchain_core.output_parsers import StrOutputParser\n",
    "\n",
    "llm = Ollama(model=\"llama2\")\n",
    "\n",
    "# Pretrained llama2 (topic we ask may not be available at the time llama2 was trained)\n",
    "llm.invoke(\"How to write OOP class in Python ?\")\n",
    "\n",
    "# Convert raw user input into better input to LLM\n",
    "prompt = ChatPromptTemplate.from_messages([\n",
    "    (\"system\", \"You are world class technical documentation writer.\"),\n",
    "    (\"user\", \"{input}\")\n",
    "])\n",
    "\n",
    "str_ouput_parser = StrOutputParser()\n",
    "\n",
    "chain = prompt | llm | str_ouput_parser\n",
    "\n",
    "chain.invoke({\"input\": \"how to write OOP class in Python ?\"})\n"
   ]
  }
 ],
 "metadata": {
  "kernelspec": {
   "display_name": ".venv",
   "language": "python",
   "name": "python3"
  },
  "language_info": {
   "codemirror_mode": {
    "name": "ipython",
    "version": 3
   },
   "file_extension": ".py",
   "mimetype": "text/x-python",
   "name": "python",
   "nbconvert_exporter": "python",
   "pygments_lexer": "ipython3",
   "version": "3.11.6"
  }
 },
 "nbformat": 4,
 "nbformat_minor": 2
}
