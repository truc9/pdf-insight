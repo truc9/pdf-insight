{
 "cells": [
  {
   "cell_type": "code",
   "execution_count": 18,
   "metadata": {},
   "outputs": [
    {
     "name": "stdout",
     "output_type": "stream",
     "text": [
      "\n",
      "\u001b[1m[\u001b[0m\u001b[34;49mnotice\u001b[0m\u001b[1;39;49m]\u001b[0m\u001b[39;49m A new release of pip is available: \u001b[0m\u001b[31;49m23.2.1\u001b[0m\u001b[39;49m -> \u001b[0m\u001b[32;49m24.0\u001b[0m\n",
      "\u001b[1m[\u001b[0m\u001b[34;49mnotice\u001b[0m\u001b[1;39;49m]\u001b[0m\u001b[39;49m To update, run: \u001b[0m\u001b[32;49mpython3.11 -m pip install --upgrade pip\u001b[0m\n"
     ]
    }
   ],
   "source": [
    "!pip3 install --upgrade --quiet  langchain langchain-community langchainhub langchain-chroma bs4 pypdf langchain_text_splitters sentence_transformers"
   ]
  },
  {
   "cell_type": "code",
   "execution_count": 1,
   "metadata": {},
   "outputs": [
    {
     "name": "stdout",
     "output_type": "stream",
     "text": [
      "[Document(page_content='Truc\\nNguyen\\nFull\\nStack\\n.NET\\nDeveloper\\n(+44)751\\n489\\n7979\\n-\\ntruchjkl@gmail.com\\nOverview\\nI\\nam\\na\\nfull\\nstack\\n.NET\\ndeveloper\\nwith\\nmore\\nthan\\n9\\nyears\\nof\\nexperience\\nin \\n.NET\\ntechnologies.\\nI\\nhave\\nmainly\\nfocused\\non\\ndeveloping\\nscalable\\nand \\nwell-documented\\ncode.\\nI\\nenjoy\\nworking\\ncollaboratively\\nbut\\nalso\\ncan\\nrun\\nthe \\nproject\\nindependently.\\nTechnical\\nSkills\\n●\\nProgramming\\nLanguages\\n○\\nC#\\n/\\nVB.NET,\\nJavaScript/TypeScript,\\nDart\\n○\\nGolang\\n(side\\nproject\\nat\\nhttps://github.com/truc9/goal\\n)\\n●\\nBackend\\n○\\n.NET\\nCore,\\nASP.NET\\nCore,\\nASP.NET\\nMVC\\n/\\nWeb\\nAPI,\\nBackground \\nWorker\\n○\\nSignalR,\\nMediatR\\n○\\nUnit\\nTest\\nwith\\nMoq\\n●\\nFrontEnd\\n○\\nHTML,\\nCSS\\n○\\njQuery\\n○\\nBootstrap,\\nTailwindCSS,\\nDevExtreme,\\nTelerik\\nKendo\\nUI\\n○\\nAngularJS,\\nAngular\\n●\\nMobile:\\nFlutter\\n●\\nDatabase:\\nMicrosoft\\nSQL\\nServer\\n&\\nEntity\\nFramework\\nCore\\n●\\nVersion\\ncontrol:\\nGIT\\n●\\nAWS\\nMSK\\n(Kafka)\\n●\\nAWS\\nLambda\\nFunction\\nWork\\nExperience\\nDepotnet\\nSoftware\\nDeveloper\\nProject:\\nSubbienet\\nApril\\n2023\\n-\\nPresent\\n●\\nA\\nweb\\napp\\nthat\\nallow\\nadministrator\\nto\\nmanage,\\nallocate,\\ntrack\\njobs\\nfor', metadata={'source': '../rag/tmp/docs/Truc Nguyen CV.pdf', 'page': 0}), Document(page_content='contractor', metadata={'source': '../rag/tmp/docs/Truc Nguyen CV.pdf', 'page': 0}), Document(page_content='●\\nA\\ncross\\nplatform\\nmobile\\napp\\n(iOS/Android)\\nfor\\ncontractors\\nto\\ntrack,\\nlog \\nand\\nmove\\njobs\\nto\\nmultiple\\nstages,\\nupload\\nphotos,\\nand\\ndo\\nsafety\\nsurveys \\nbefore\\nstarting\\nany\\njob.\\n●\\nResponsibilities\\n○\\nTake\\npart\\nin\\nfull\\nstack\\ndevelopment\\nfrom\\ndatabase\\ndesign,\\nAPI\\nto \\nfrontend\\nand\\nmobile\\napp\\ndevelopment\\nof\\nthe\\nStreet\\nManager \\nfunctionality. \\n●\\nTech\\nstack \\n○\\nC#,\\nWeb\\nAPI,\\nEntity\\nFramework\\nCore,\\nASP.NET\\nCore,\\nAWS\\nLambda \\nFunction,\\nAWS\\nLambda\\nFunction,\\nAngular\\n11,\\nDevExtreme, \\nPrimeNG\\nAngular,\\nEvoPDF \\n○\\nDart,\\nFlutter\\nProject:\\nCityFibre\\nJan\\n2023\\n-\\nPresent\\n●\\nA\\nweb\\napp\\nthat\\nallow\\nadministrator\\nto\\nmanage,\\nallocate,\\ntracking\\nprojects \\nand\\nassets,\\nallow\\nusers\\nto\\nview\\ncreate/allocate\\njob\\non\\nmap\\n●\\nResponsibilities\\n○\\nTake\\npart\\nin\\nfull\\nstack\\ndevelopment\\nfrom\\ndatabase\\ndesign,\\nAPI\\nto \\nfrontend\\n○\\nBugs\\nfixing\\n●\\nTech\\nstack \\n○\\nC#,\\nEF\\nCore,\\nASP.NET\\nMVC,\\nAngularJS,\\njQuery,\\nBootstrap, \\nDevExtreme,\\nLeaflet\\nmap,\\nAWS\\nMSK\\nKafka,\\nAWS\\nLambda\\nFunction\\nProject:\\nONSA\\nOct\\n2021\\n-\\nJan\\n2023\\n●\\nA\\njob\\nmanagement\\nsystem\\nthat\\nmanages', metadata={'source': '../rag/tmp/docs/Truc Nguyen CV.pdf', 'page': 1}), Document(page_content='jobs\\nfor\\ncivil\\nengineers,\\nthis \\nallows\\nadministrators\\nto\\nmanage\\njobs\\nand\\nallocate\\nto\\ncontractors.\\n●\\nResponsibilities\\n○\\nWork\\nclosely\\nwith\\nProduct\\nOwner\\n&\\nBA\\nfrom\\nrequirement\\nanalysis \\nto\\ncoding\\nand\\ndatabase\\ndesign,\\nsupport\\nbug\\nfixing\\nand\\nproblem \\nanalysis\\n○\\nInvolving\\nin\\ndesigning\\nthe\\nfriendly\\nUI\\nto\\nbring\\nthe\\nbest\\nexperience \\nto\\ncustomers\\n○\\nIntegrating\\nwith\\ncustomer\\necosystem\\nusing\\nevent\\ndriven \\narchitecture\\n○\\nImprove\\nuser\\nexperience\\nusing\\nserver\\npush\\nnotification\\n○\\nImprove\\nweb\\npage\\nperformance\\n●\\nTech\\nstack \\n○\\nC#,\\nASP.NET\\nCore,\\nApache\\nKafka,\\nAngular\\n7,\\nTypescript, \\nDevExtreme\\nUI,\\nSCSS,\\nSQL\\nServer,\\nSignalR', metadata={'source': '../rag/tmp/docs/Truc Nguyen CV.pdf', 'page': 1}), Document(page_content='Pinewood\\nTechnologies\\nSoftware\\nDeveloper\\nProject:\\nDMS\\nOct\\n2019\\n-\\nOct\\n2021\\n●\\nA\\ndealer\\nmanagement\\nsystem,\\nproviding\\ncapability\\nof\\ncustomer \\nrelationship\\nmanagement,\\nsales,\\naftersales\\nand\\naccounts.\\n●\\nResponsibilities\\n○\\nWork\\nclosely\\nwith\\nProduct\\nOwner\\n&\\nBA\\nfrom\\nrequirement\\nanalysis \\nto\\ncoding\\nand\\ndatabase\\ndesign,\\nsupport\\nbug\\nfixing\\nand\\nproblem \\nanalysis\\n○\\nInvolving\\nin\\ndesigning\\nthe\\nfriendly\\nUI\\nto\\nbring\\nthe\\nbest\\nexperience \\nto\\ncustomers \\n●\\nTech\\nstack \\n○\\nC#,\\nASP.NET\\nWeb\\nForm,\\nRazor\\nPage,\\njQuery,\\nJS/HTML/CSS\\nBOSCH\\nSenior\\nSoftware\\nDeveloper\\nProject:\\nGOC\\nDec\\n2015\\n-\\nOct\\n2019\\n●\\nA\\ndashboard\\nmonitors\\nIT\\ntickets\\nat\\nBosch\\nin\\nreal\\ntime.\\nProviding \\ncapability\\nfor\\ndata\\nvisualization\\nby\\ncharts\\non\\nthe\\ndashboard,\\nfilter,\\nand \\ngroup\\nticket\\non\\ngrid\\nview. \\n●\\nResponsibilities \\n○\\nInvolving\\nin\\ndatabase\\ndesign,\\nUI,\\ncoding,\\ntesting\\nto\\ndeployment \\n○\\nWork\\ndirectly\\nwith\\ncustomers\\nfor\\nrequirement\\nanalysis \\n●\\nTech\\nstack \\n○\\nC#,\\nASP.NET\\nMVC,\\nSignalR,\\nKnockoutjs,\\nChartjs,\\nEntity \\nFramework\\n6\\nProject:\\nCI-CAT\\nDec\\n2015\\n-\\nOct', metadata={'source': '../rag/tmp/docs/Truc Nguyen CV.pdf', 'page': 2}), Document(page_content='2019\\n●\\nA\\nwindows\\nform\\napplication\\nsupports\\nmanaging\\nBosch\\npersonal\\ndata, \\nuser\\ncredentials,\\nemail,\\nassets\\nin\\nsync\\nwith\\nBosch\\nActive\\nDirectory \\nServices. \\n●\\nResponsibilities \\n○\\nCommunicate\\nwith\\ncustomer\\nfor\\nrequirement\\nanalysis \\n○\\nCoding,\\ntesting \\n●\\nTech\\nstack \\n○\\nOracle\\n(PL/SQL),\\nC#,\\nWindows\\nForm,\\nWCF\\nProject:\\nBIS\\nMay\\n2015\\n-\\nDec\\n2015\\n●\\nWeb-based\\napplication\\nfor\\nanalyzing\\nfinancial\\nreports\\nand\\nsupporting \\nfinance\\nanalysts\\nto\\npredict\\nspending\\ncost\\nin\\nfuture\\nand\\nreview\\nthe \\nspending\\namount\\nin\\npast\\nmonths. \\n●\\nResponsibilities \\n○\\nCommunicate\\nwith\\ncustomer\\nfor\\nrequirement\\nanalysis', metadata={'source': '../rag/tmp/docs/Truc Nguyen CV.pdf', 'page': 2}), Document(page_content='○\\nMentor\\nother\\n2\\nteam\\nmembers \\n○\\nUI\\nDesign,\\ndatabase\\ndesign,\\ncoding,\\ntesting \\n●\\nTech\\nstack \\n○\\nC#,\\nASP.NET\\nMVC\\n5,\\nEntity\\nFramework,\\nBootstrap\\n3,\\nRDLC \\nreporting,\\nKnockoutJS,\\nMS\\nTFS\\nOrient\\nSoftware\\nSoftware\\nDeveloper\\nProject:\\nAMT\\nFeb\\n2014\\n-\\nMay\\n2015\\n●\\nAMT\\nWeb\\nis\\nan\\nAsset\\nManagement\\nTool\\nthat\\nis\\nmigrated\\nfrom\\nwindows \\nform\\napplication\\nto\\na\\nsingle-page\\napplication,\\nthis\\ntool\\nis\\nbasically\\nused \\nfor\\nmanaging\\nassets\\n(truck,\\nplane),\\nbudgeting\\nreport,\\nand\\nforecasting\\nthe \\nrepair\\ncost\\nof\\nthose\\nassets\\nin\\nfuture.\\nThis\\ntool\\nsupports\\nresponsive\\nUI \\nboth\\ncross-mobile\\ndevices\\nand\\ndesktop. \\n●\\nResponsibilities \\n○\\nInvolving\\nin\\ncoding,\\nrequirement\\nanalysis \\n●\\nTech\\nstack \\n○\\nC#,\\nASP.NET\\nAPI,\\nDurandalJS,\\nAngular\\nJS,\\nBootstrap,\\nGit\\nContact\\nGithub\\nhttps://github.com/truc9\\nLinkedIn\\nhttps://www.linkedin.com/in/nttruc', metadata={'source': '../rag/tmp/docs/Truc Nguyen CV.pdf', 'page': 3})]\n"
     ]
    },
    {
     "name": "stderr",
     "output_type": "stream",
     "text": [
      "/opt/homebrew/lib/python3.11/site-packages/tqdm/auto.py:21: TqdmWarning: IProgress not found. Please update jupyter and ipywidgets. See https://ipywidgets.readthedocs.io/en/stable/user_install.html\n",
      "  from .autonotebook import tqdm as notebook_tqdm\n"
     ]
    }
   ],
   "source": [
    "import os\n",
    "from langchain_community.document_loaders.pdf import PyPDFLoader\n",
    "from langchain_text_splitters import RecursiveCharacterTextSplitter\n",
    "from langchain_community.vectorstores.chroma import Chroma\n",
    "from langchain_community.embeddings.sentence_transformer import SentenceTransformerEmbeddings\n",
    "\n",
    "loader = PyPDFLoader(\"../rag/tmp/docs/Truc Nguyen CV.pdf\")\n",
    "documents = loader.load()\n",
    "\n",
    "splitter = RecursiveCharacterTextSplitter(chunk_size=1000, chunk_overlap=0)\n",
    "docs = splitter.split_documents(documents)\n",
    "\n",
    "print(docs)\n",
    "\n",
    "embedding = SentenceTransformerEmbeddings(model_name=\"all-MiniLM-L6-v2\")\n",
    "vectorstore = Chroma.from_documents(\n",
    "    docs, embedding, persist_directory=os.path.join(os.curdir, \"vectordb\")\n",
    ")\n",
    "vectorstore.persist()"
   ]
  },
  {
   "cell_type": "code",
   "execution_count": 15,
   "metadata": {},
   "outputs": [
    {
     "name": "stdout",
     "output_type": "stream",
     "text": [
      "Based on the provided context, Truc is a full stack .NET developer with over 9 years of experience in .NET technologies.\n"
     ]
    }
   ],
   "source": [
    "from langchain_community.chat_models.ollama import ChatOllama\n",
    "from langchain_core.output_parsers import StrOutputParser\n",
    "from langchain_core.runnables import RunnablePassthrough\n",
    "from langchain import hub\n",
    "\n",
    "llm = ChatOllama(model=\"llama3\")\n",
    "embedding = SentenceTransformerEmbeddings(model_name=\"all-MiniLM-L6-v2\")\n",
    "\n",
    "vectorstore = Chroma(\n",
    "    persist_directory=os.path.join(os.curdir, \"vectordb\"),\n",
    "    embedding_function=embedding,\n",
    ")\n",
    "retriever = vectorstore.as_retriever()\n",
    "\n",
    "prompt = hub.pull(\"rlm/rag-prompt\")\n",
    "\n",
    "def format_docs(docs):\n",
    "    return \"\\n\\n\".join(doc.page_content for doc in docs)\n",
    "\n",
    "question = \"Tell me about Truc?\"\n",
    "\n",
    "rag_chain = (\n",
    "    {\"context\": retriever | format_docs, \"question\": RunnablePassthrough()}\n",
    "    | prompt\n",
    "    | llm\n",
    "    | StrOutputParser()\n",
    ")\n",
    "\n",
    "answer = rag_chain.invoke(question)\n",
    "print(answer)"
   ]
  }
 ],
 "metadata": {
  "kernelspec": {
   "display_name": "Python 3",
   "language": "python",
   "name": "python3"
  },
  "language_info": {
   "codemirror_mode": {
    "name": "ipython",
    "version": 3
   },
   "file_extension": ".py",
   "mimetype": "text/x-python",
   "name": "python",
   "nbconvert_exporter": "python",
   "pygments_lexer": "ipython3",
   "version": "3.11.9"
  }
 },
 "nbformat": 4,
 "nbformat_minor": 2
}
