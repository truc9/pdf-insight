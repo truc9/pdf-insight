{
 "cells": [
  {
   "cell_type": "code",
   "execution_count": 12,
   "metadata": {},
   "outputs": [
    {
     "data": {
      "text/plain": [
       "AIMessage(content='Coming up with a suitable company name for an AI application development company in the healthcare industry can be a challenging task. Here are some suggestions to get you started:\\n\\n1. MedTechAI - This name combines \"medical\" and \"technology,\" clearly conveying the focus of the company on developing AI applications for the healthcare industry.\\n2. HealthNexus - This name suggests a connection or hub between healthcare and technology, which aligns well with the purpose of an AI application development company.\\n3. CareAI - This name emphasizes the focus on care and compassion in the use of AI technology, which is essential in the healthcare industry.\\n4. DiagnosticDynamics - This name highlights the company\\'s expertise in developing AI applications for medical diagnosis and treatment.\\n5. MedicalMind - This name conveys a sense of intelligence and innovation in the development of AI applications for healthcare.\\n6. WellnessWave - This name suggests a focus on promoting wellness and improving health outcomes through the use of AI technology.\\n7. HealthGenius - This name emphasizes the company\\'s commitment to developing AI applications that are intelligent, innovative, and focused on improving healthcare outcomes.\\n8. CareBot - This name is simple and straightforward, conveying a sense of automation and efficiency in the use of AI technology for healthcare.\\n9. MedTechLab - This name suggests a focus on research and development in the field of medical technology, including AI applications.\\n10. HealthSpectrum - This name emphasizes the company\\'s commitment to developing AI applications that span the full spectrum of healthcare needs.\\n\\nRemember to choose a name that is memorable, easy to pronounce and spell, and reflects the values and mission of your company. It\\'s also important to check for domain name availability and potential trademark conflicts before finalizing a name.', response_metadata={'model': 'llama2', 'created_at': '2024-04-12T05:59:39.381319Z', 'message': {'role': 'assistant', 'content': ''}, 'done': True, 'total_duration': 12694396167, 'load_duration': 2529750, 'prompt_eval_duration': 28700000, 'eval_count': 436, 'eval_duration': 12662654000}, id='run-9fcbcf28-ffe8-4e49-add6-4f77832d7550-0')"
      ]
     },
     "execution_count": 12,
     "metadata": {},
     "output_type": "execute_result"
    }
   ],
   "source": [
    "from langchain_community.llms import Ollama\n",
    "from langchain_community.chat_models import ChatOllama\n",
    "from langchain_core.prompts import ChatPromptTemplate\n",
    "from langchain_core.messages import HumanMessage\n",
    "\n",
    "llm = Ollama(model=\"llama2\")\n",
    "chat_model = ChatOllama()\n",
    "\n",
    "text = \"What would be a good company name for company that makes AI application in Health Care ?\"\n",
    "\n",
    "messages = [HumanMessage(content=text)]\n",
    "\n",
    "llm.invoke(text)\n",
    "\n",
    "chat_model.invoke(messages)\n",
    "\n",
    "\n",
    "# prompt = ChatPromptTemplate.from_messages([\n",
    "#     (\"system\", \"You are world class technical documentation writer.\"),\n",
    "#     (\"user\", \"{input}\")\n",
    "# ])\n",
    "\n",
    "# chain = prompt | llm\n",
    "\n",
    "# chain.invoke({\n",
    "#     \"input\":\"how can langchain help with RAG LLM ?\"\n",
    "# })\n"
   ]
  }
 ],
 "metadata": {
  "kernelspec": {
   "display_name": ".venv",
   "language": "python",
   "name": "python3"
  },
  "language_info": {
   "codemirror_mode": {
    "name": "ipython",
    "version": 3
   },
   "file_extension": ".py",
   "mimetype": "text/x-python",
   "name": "python",
   "nbconvert_exporter": "python",
   "pygments_lexer": "ipython3",
   "version": "3.12.0"
  }
 },
 "nbformat": 4,
 "nbformat_minor": 2
}
